{
  "nbformat": 4,
  "nbformat_minor": 0,
  "metadata": {
    "colab": {
      "name": "RegressionUsingNeuralNetworks.ipynb",
      "provenance": [],
      "collapsed_sections": [],
      "authorship_tag": "ABX9TyOR/bE//90AWtEuU9A/Bdcy",
      "include_colab_link": true
    },
    "kernelspec": {
      "name": "python3",
      "display_name": "Python 3"
    },
    "language_info": {
      "name": "python"
    }
  },
  "cells": [
    {
      "cell_type": "markdown",
      "metadata": {
        "id": "view-in-github",
        "colab_type": "text"
      },
      "source": [
        "<a href=\"https://colab.research.google.com/github/Laura-Neff/RegressionUsingNeuralNetworks/blob/main/RegressionUsingNeuralNetworks.ipynb\" target=\"_parent\"><img src=\"https://colab.research.google.com/assets/colab-badge.svg\" alt=\"Open In Colab\"/></a>"
      ]
    },
    {
      "cell_type": "code",
      "execution_count": null,
      "metadata": {
        "colab": {
          "base_uri": "https://localhost:8080/"
        },
        "id": "yRiGS3HcRfsv",
        "outputId": "cea963f2-d06c-437d-bbe3-0a92f7113487"
      },
      "outputs": [
        {
          "output_type": "stream",
          "name": "stdout",
          "text": [
            "Looking in indexes: https://pypi.org/simple, https://us-python.pkg.dev/colab-wheels/public/simple/\n",
            "Requirement already satisfied: torch in /usr/local/lib/python3.7/dist-packages (1.12.0+cu113)\n",
            "Requirement already satisfied: typing-extensions in /usr/local/lib/python3.7/dist-packages (from torch) (4.1.1)\n"
          ]
        }
      ],
      "source": [
        "!pip install torch\n",
        "\n",
        "#Use PyTorch to set up neural networks to predict data"
      ]
    },
    {
      "cell_type": "code",
      "source": [
        "!pip install torchvision"
      ],
      "metadata": {
        "colab": {
          "base_uri": "https://localhost:8080/"
        },
        "id": "x94JLuNhRkAm",
        "outputId": "fc1d635e-b232-488c-e165-9f80caeea220"
      },
      "execution_count": null,
      "outputs": [
        {
          "output_type": "stream",
          "name": "stdout",
          "text": [
            "Looking in indexes: https://pypi.org/simple, https://us-python.pkg.dev/colab-wheels/public/simple/\n",
            "Requirement already satisfied: torchvision in /usr/local/lib/python3.7/dist-packages (0.13.0+cu113)\n",
            "Requirement already satisfied: requests in /usr/local/lib/python3.7/dist-packages (from torchvision) (2.23.0)\n",
            "Requirement already satisfied: typing-extensions in /usr/local/lib/python3.7/dist-packages (from torchvision) (4.1.1)\n",
            "Requirement already satisfied: pillow!=8.3.*,>=5.3.0 in /usr/local/lib/python3.7/dist-packages (from torchvision) (7.1.2)\n",
            "Requirement already satisfied: numpy in /usr/local/lib/python3.7/dist-packages (from torchvision) (1.21.6)\n",
            "Requirement already satisfied: torch==1.12.0 in /usr/local/lib/python3.7/dist-packages (from torchvision) (1.12.0+cu113)\n",
            "Requirement already satisfied: certifi>=2017.4.17 in /usr/local/lib/python3.7/dist-packages (from requests->torchvision) (2022.6.15)\n",
            "Requirement already satisfied: urllib3!=1.25.0,!=1.25.1,<1.26,>=1.21.1 in /usr/local/lib/python3.7/dist-packages (from requests->torchvision) (1.24.3)\n",
            "Requirement already satisfied: idna<3,>=2.5 in /usr/local/lib/python3.7/dist-packages (from requests->torchvision) (2.10)\n",
            "Requirement already satisfied: chardet<4,>=3.0.2 in /usr/local/lib/python3.7/dist-packages (from requests->torchvision) (3.0.4)\n"
          ]
        }
      ]
    },
    {
      "cell_type": "code",
      "source": [
        "import pandas as pd\n",
        "\n",
        "import matplotlib.pyplot as plt"
      ],
      "metadata": {
        "id": "Fmskdm8uRkDv"
      },
      "execution_count": null,
      "outputs": []
    },
    {
      "cell_type": "code",
      "source": [
        "advertising_data = pd.read_csv('Advertising.csv', index_col=0)\n",
        "\n",
        "advertising_data.sample(10)"
      ],
      "metadata": {
        "colab": {
          "base_uri": "https://localhost:8080/",
          "height": 363
        },
        "id": "2hXUgq8VRkHB",
        "outputId": "2fe5f6f9-cc08-4fdc-801a-96ff5476e62d"
      },
      "execution_count": null,
      "outputs": [
        {
          "output_type": "execute_result",
          "data": {
            "text/plain": [
              "        TV  radio  newspaper  sales\n",
              "188  191.1   28.7       18.2   17.3\n",
              "126   87.2   11.8       25.9   10.6\n",
              "92    28.6    1.5       33.0    7.3\n",
              "161  172.5   18.1       30.7   14.4\n",
              "104  187.9   17.2       17.9   14.7\n",
              "34   265.6   20.0        0.3   17.4\n",
              "110  255.4   26.9        5.5   19.8\n",
              "116   75.1   35.0       52.7   12.6\n",
              "148  243.2   49.0       44.3   25.4\n",
              "152  121.0    8.4       48.7   11.6"
            ],
            "text/html": [
              "\n",
              "  <div id=\"df-2bf4252e-c667-4562-b6fd-7fd4cc8b5877\">\n",
              "    <div class=\"colab-df-container\">\n",
              "      <div>\n",
              "<style scoped>\n",
              "    .dataframe tbody tr th:only-of-type {\n",
              "        vertical-align: middle;\n",
              "    }\n",
              "\n",
              "    .dataframe tbody tr th {\n",
              "        vertical-align: top;\n",
              "    }\n",
              "\n",
              "    .dataframe thead th {\n",
              "        text-align: right;\n",
              "    }\n",
              "</style>\n",
              "<table border=\"1\" class=\"dataframe\">\n",
              "  <thead>\n",
              "    <tr style=\"text-align: right;\">\n",
              "      <th></th>\n",
              "      <th>TV</th>\n",
              "      <th>radio</th>\n",
              "      <th>newspaper</th>\n",
              "      <th>sales</th>\n",
              "    </tr>\n",
              "  </thead>\n",
              "  <tbody>\n",
              "    <tr>\n",
              "      <th>188</th>\n",
              "      <td>191.1</td>\n",
              "      <td>28.7</td>\n",
              "      <td>18.2</td>\n",
              "      <td>17.3</td>\n",
              "    </tr>\n",
              "    <tr>\n",
              "      <th>126</th>\n",
              "      <td>87.2</td>\n",
              "      <td>11.8</td>\n",
              "      <td>25.9</td>\n",
              "      <td>10.6</td>\n",
              "    </tr>\n",
              "    <tr>\n",
              "      <th>92</th>\n",
              "      <td>28.6</td>\n",
              "      <td>1.5</td>\n",
              "      <td>33.0</td>\n",
              "      <td>7.3</td>\n",
              "    </tr>\n",
              "    <tr>\n",
              "      <th>161</th>\n",
              "      <td>172.5</td>\n",
              "      <td>18.1</td>\n",
              "      <td>30.7</td>\n",
              "      <td>14.4</td>\n",
              "    </tr>\n",
              "    <tr>\n",
              "      <th>104</th>\n",
              "      <td>187.9</td>\n",
              "      <td>17.2</td>\n",
              "      <td>17.9</td>\n",
              "      <td>14.7</td>\n",
              "    </tr>\n",
              "    <tr>\n",
              "      <th>34</th>\n",
              "      <td>265.6</td>\n",
              "      <td>20.0</td>\n",
              "      <td>0.3</td>\n",
              "      <td>17.4</td>\n",
              "    </tr>\n",
              "    <tr>\n",
              "      <th>110</th>\n",
              "      <td>255.4</td>\n",
              "      <td>26.9</td>\n",
              "      <td>5.5</td>\n",
              "      <td>19.8</td>\n",
              "    </tr>\n",
              "    <tr>\n",
              "      <th>116</th>\n",
              "      <td>75.1</td>\n",
              "      <td>35.0</td>\n",
              "      <td>52.7</td>\n",
              "      <td>12.6</td>\n",
              "    </tr>\n",
              "    <tr>\n",
              "      <th>148</th>\n",
              "      <td>243.2</td>\n",
              "      <td>49.0</td>\n",
              "      <td>44.3</td>\n",
              "      <td>25.4</td>\n",
              "    </tr>\n",
              "    <tr>\n",
              "      <th>152</th>\n",
              "      <td>121.0</td>\n",
              "      <td>8.4</td>\n",
              "      <td>48.7</td>\n",
              "      <td>11.6</td>\n",
              "    </tr>\n",
              "  </tbody>\n",
              "</table>\n",
              "</div>\n",
              "      <button class=\"colab-df-convert\" onclick=\"convertToInteractive('df-2bf4252e-c667-4562-b6fd-7fd4cc8b5877')\"\n",
              "              title=\"Convert this dataframe to an interactive table.\"\n",
              "              style=\"display:none;\">\n",
              "        \n",
              "  <svg xmlns=\"http://www.w3.org/2000/svg\" height=\"24px\"viewBox=\"0 0 24 24\"\n",
              "       width=\"24px\">\n",
              "    <path d=\"M0 0h24v24H0V0z\" fill=\"none\"/>\n",
              "    <path d=\"M18.56 5.44l.94 2.06.94-2.06 2.06-.94-2.06-.94-.94-2.06-.94 2.06-2.06.94zm-11 1L8.5 8.5l.94-2.06 2.06-.94-2.06-.94L8.5 2.5l-.94 2.06-2.06.94zm10 10l.94 2.06.94-2.06 2.06-.94-2.06-.94-.94-2.06-.94 2.06-2.06.94z\"/><path d=\"M17.41 7.96l-1.37-1.37c-.4-.4-.92-.59-1.43-.59-.52 0-1.04.2-1.43.59L10.3 9.45l-7.72 7.72c-.78.78-.78 2.05 0 2.83L4 21.41c.39.39.9.59 1.41.59.51 0 1.02-.2 1.41-.59l7.78-7.78 2.81-2.81c.8-.78.8-2.07 0-2.86zM5.41 20L4 18.59l7.72-7.72 1.47 1.35L5.41 20z\"/>\n",
              "  </svg>\n",
              "      </button>\n",
              "      \n",
              "  <style>\n",
              "    .colab-df-container {\n",
              "      display:flex;\n",
              "      flex-wrap:wrap;\n",
              "      gap: 12px;\n",
              "    }\n",
              "\n",
              "    .colab-df-convert {\n",
              "      background-color: #E8F0FE;\n",
              "      border: none;\n",
              "      border-radius: 50%;\n",
              "      cursor: pointer;\n",
              "      display: none;\n",
              "      fill: #1967D2;\n",
              "      height: 32px;\n",
              "      padding: 0 0 0 0;\n",
              "      width: 32px;\n",
              "    }\n",
              "\n",
              "    .colab-df-convert:hover {\n",
              "      background-color: #E2EBFA;\n",
              "      box-shadow: 0px 1px 2px rgba(60, 64, 67, 0.3), 0px 1px 3px 1px rgba(60, 64, 67, 0.15);\n",
              "      fill: #174EA6;\n",
              "    }\n",
              "\n",
              "    [theme=dark] .colab-df-convert {\n",
              "      background-color: #3B4455;\n",
              "      fill: #D2E3FC;\n",
              "    }\n",
              "\n",
              "    [theme=dark] .colab-df-convert:hover {\n",
              "      background-color: #434B5C;\n",
              "      box-shadow: 0px 1px 3px 1px rgba(0, 0, 0, 0.15);\n",
              "      filter: drop-shadow(0px 1px 2px rgba(0, 0, 0, 0.3));\n",
              "      fill: #FFFFFF;\n",
              "    }\n",
              "  </style>\n",
              "\n",
              "      <script>\n",
              "        const buttonEl =\n",
              "          document.querySelector('#df-2bf4252e-c667-4562-b6fd-7fd4cc8b5877 button.colab-df-convert');\n",
              "        buttonEl.style.display =\n",
              "          google.colab.kernel.accessAllowed ? 'block' : 'none';\n",
              "\n",
              "        async function convertToInteractive(key) {\n",
              "          const element = document.querySelector('#df-2bf4252e-c667-4562-b6fd-7fd4cc8b5877');\n",
              "          const dataTable =\n",
              "            await google.colab.kernel.invokeFunction('convertToInteractive',\n",
              "                                                     [key], {});\n",
              "          if (!dataTable) return;\n",
              "\n",
              "          const docLinkHtml = 'Like what you see? Visit the ' +\n",
              "            '<a target=\"_blank\" href=https://colab.research.google.com/notebooks/data_table.ipynb>data table notebook</a>'\n",
              "            + ' to learn more about interactive tables.';\n",
              "          element.innerHTML = '';\n",
              "          dataTable['output_type'] = 'display_data';\n",
              "          await google.colab.output.renderOutput(dataTable, element);\n",
              "          const docLink = document.createElement('div');\n",
              "          docLink.innerHTML = docLinkHtml;\n",
              "          element.appendChild(docLink);\n",
              "        }\n",
              "      </script>\n",
              "    </div>\n",
              "  </div>\n",
              "  "
            ]
          },
          "metadata": {},
          "execution_count": 4
        }
      ]
    },
    {
      "cell_type": "code",
      "source": [
        "advertising_data.shape"
      ],
      "metadata": {
        "colab": {
          "base_uri": "https://localhost:8080/"
        },
        "id": "zXXnAE_ORkO7",
        "outputId": "e5d473b7-b92d-42c5-d0fb-36d23a2df17b"
      },
      "execution_count": null,
      "outputs": [
        {
          "output_type": "execute_result",
          "data": {
            "text/plain": [
              "(200, 4)"
            ]
          },
          "metadata": {},
          "execution_count": 5
        }
      ]
    },
    {
      "cell_type": "code",
      "source": [
        "from sklearn import preprocessing"
      ],
      "metadata": {
        "id": "ZhW7cRjDR0yK"
      },
      "execution_count": null,
      "outputs": []
    },
    {
      "cell_type": "code",
      "source": [
        "advertising_data[['TV']] = preprocessing.scale(advertising_data[['TV']])\n",
        "advertising_data[['radio']] = preprocessing.scale(advertising_data[['radio']])\n",
        "advertising_data[['newspaper']] = preprocessing.scale(advertising_data[['newspaper']])\n",
        "\n",
        "#neural networks work better when you have very small numbers and they're all in the same range; so scale it "
      ],
      "metadata": {
        "id": "UIcP7vbvR002"
      },
      "execution_count": null,
      "outputs": []
    },
    {
      "cell_type": "code",
      "source": [
        "advertising_data.sample(10)"
      ],
      "metadata": {
        "colab": {
          "base_uri": "https://localhost:8080/",
          "height": 363
        },
        "id": "9KL_hJgxR031",
        "outputId": "75659df9-7572-4b7e-e5f1-9e2c1a98895b"
      },
      "execution_count": null,
      "outputs": [
        {
          "output_type": "execute_result",
          "data": {
            "text/plain": [
              "           TV     radio  newspaper  sales\n",
              "110  1.265277  0.245516  -1.153281   19.8\n",
              "146 -0.078731 -1.442573  -0.992170   10.3\n",
              "176  1.516330  1.731034   0.517674   27.0\n",
              "87  -0.826052  0.286030  -0.669947   12.0\n",
              "65  -0.186159  1.319140  -0.076137   18.0\n",
              "53   0.809879  1.244864   0.416404   22.6\n",
              "3   -1.516155  1.528463   1.783549    9.3\n",
              "145 -0.593682 -0.571519   0.384182   11.4\n",
              "60   0.743321  0.421077  -0.978360   18.4\n",
              "36   1.677471 -1.294022  -1.015186   12.8"
            ],
            "text/html": [
              "\n",
              "  <div id=\"df-b1ff926f-461d-42c4-a8b6-c584dbe2193a\">\n",
              "    <div class=\"colab-df-container\">\n",
              "      <div>\n",
              "<style scoped>\n",
              "    .dataframe tbody tr th:only-of-type {\n",
              "        vertical-align: middle;\n",
              "    }\n",
              "\n",
              "    .dataframe tbody tr th {\n",
              "        vertical-align: top;\n",
              "    }\n",
              "\n",
              "    .dataframe thead th {\n",
              "        text-align: right;\n",
              "    }\n",
              "</style>\n",
              "<table border=\"1\" class=\"dataframe\">\n",
              "  <thead>\n",
              "    <tr style=\"text-align: right;\">\n",
              "      <th></th>\n",
              "      <th>TV</th>\n",
              "      <th>radio</th>\n",
              "      <th>newspaper</th>\n",
              "      <th>sales</th>\n",
              "    </tr>\n",
              "  </thead>\n",
              "  <tbody>\n",
              "    <tr>\n",
              "      <th>110</th>\n",
              "      <td>1.265277</td>\n",
              "      <td>0.245516</td>\n",
              "      <td>-1.153281</td>\n",
              "      <td>19.8</td>\n",
              "    </tr>\n",
              "    <tr>\n",
              "      <th>146</th>\n",
              "      <td>-0.078731</td>\n",
              "      <td>-1.442573</td>\n",
              "      <td>-0.992170</td>\n",
              "      <td>10.3</td>\n",
              "    </tr>\n",
              "    <tr>\n",
              "      <th>176</th>\n",
              "      <td>1.516330</td>\n",
              "      <td>1.731034</td>\n",
              "      <td>0.517674</td>\n",
              "      <td>27.0</td>\n",
              "    </tr>\n",
              "    <tr>\n",
              "      <th>87</th>\n",
              "      <td>-0.826052</td>\n",
              "      <td>0.286030</td>\n",
              "      <td>-0.669947</td>\n",
              "      <td>12.0</td>\n",
              "    </tr>\n",
              "    <tr>\n",
              "      <th>65</th>\n",
              "      <td>-0.186159</td>\n",
              "      <td>1.319140</td>\n",
              "      <td>-0.076137</td>\n",
              "      <td>18.0</td>\n",
              "    </tr>\n",
              "    <tr>\n",
              "      <th>53</th>\n",
              "      <td>0.809879</td>\n",
              "      <td>1.244864</td>\n",
              "      <td>0.416404</td>\n",
              "      <td>22.6</td>\n",
              "    </tr>\n",
              "    <tr>\n",
              "      <th>3</th>\n",
              "      <td>-1.516155</td>\n",
              "      <td>1.528463</td>\n",
              "      <td>1.783549</td>\n",
              "      <td>9.3</td>\n",
              "    </tr>\n",
              "    <tr>\n",
              "      <th>145</th>\n",
              "      <td>-0.593682</td>\n",
              "      <td>-0.571519</td>\n",
              "      <td>0.384182</td>\n",
              "      <td>11.4</td>\n",
              "    </tr>\n",
              "    <tr>\n",
              "      <th>60</th>\n",
              "      <td>0.743321</td>\n",
              "      <td>0.421077</td>\n",
              "      <td>-0.978360</td>\n",
              "      <td>18.4</td>\n",
              "    </tr>\n",
              "    <tr>\n",
              "      <th>36</th>\n",
              "      <td>1.677471</td>\n",
              "      <td>-1.294022</td>\n",
              "      <td>-1.015186</td>\n",
              "      <td>12.8</td>\n",
              "    </tr>\n",
              "  </tbody>\n",
              "</table>\n",
              "</div>\n",
              "      <button class=\"colab-df-convert\" onclick=\"convertToInteractive('df-b1ff926f-461d-42c4-a8b6-c584dbe2193a')\"\n",
              "              title=\"Convert this dataframe to an interactive table.\"\n",
              "              style=\"display:none;\">\n",
              "        \n",
              "  <svg xmlns=\"http://www.w3.org/2000/svg\" height=\"24px\"viewBox=\"0 0 24 24\"\n",
              "       width=\"24px\">\n",
              "    <path d=\"M0 0h24v24H0V0z\" fill=\"none\"/>\n",
              "    <path d=\"M18.56 5.44l.94 2.06.94-2.06 2.06-.94-2.06-.94-.94-2.06-.94 2.06-2.06.94zm-11 1L8.5 8.5l.94-2.06 2.06-.94-2.06-.94L8.5 2.5l-.94 2.06-2.06.94zm10 10l.94 2.06.94-2.06 2.06-.94-2.06-.94-.94-2.06-.94 2.06-2.06.94z\"/><path d=\"M17.41 7.96l-1.37-1.37c-.4-.4-.92-.59-1.43-.59-.52 0-1.04.2-1.43.59L10.3 9.45l-7.72 7.72c-.78.78-.78 2.05 0 2.83L4 21.41c.39.39.9.59 1.41.59.51 0 1.02-.2 1.41-.59l7.78-7.78 2.81-2.81c.8-.78.8-2.07 0-2.86zM5.41 20L4 18.59l7.72-7.72 1.47 1.35L5.41 20z\"/>\n",
              "  </svg>\n",
              "      </button>\n",
              "      \n",
              "  <style>\n",
              "    .colab-df-container {\n",
              "      display:flex;\n",
              "      flex-wrap:wrap;\n",
              "      gap: 12px;\n",
              "    }\n",
              "\n",
              "    .colab-df-convert {\n",
              "      background-color: #E8F0FE;\n",
              "      border: none;\n",
              "      border-radius: 50%;\n",
              "      cursor: pointer;\n",
              "      display: none;\n",
              "      fill: #1967D2;\n",
              "      height: 32px;\n",
              "      padding: 0 0 0 0;\n",
              "      width: 32px;\n",
              "    }\n",
              "\n",
              "    .colab-df-convert:hover {\n",
              "      background-color: #E2EBFA;\n",
              "      box-shadow: 0px 1px 2px rgba(60, 64, 67, 0.3), 0px 1px 3px 1px rgba(60, 64, 67, 0.15);\n",
              "      fill: #174EA6;\n",
              "    }\n",
              "\n",
              "    [theme=dark] .colab-df-convert {\n",
              "      background-color: #3B4455;\n",
              "      fill: #D2E3FC;\n",
              "    }\n",
              "\n",
              "    [theme=dark] .colab-df-convert:hover {\n",
              "      background-color: #434B5C;\n",
              "      box-shadow: 0px 1px 3px 1px rgba(0, 0, 0, 0.15);\n",
              "      filter: drop-shadow(0px 1px 2px rgba(0, 0, 0, 0.3));\n",
              "      fill: #FFFFFF;\n",
              "    }\n",
              "  </style>\n",
              "\n",
              "      <script>\n",
              "        const buttonEl =\n",
              "          document.querySelector('#df-b1ff926f-461d-42c4-a8b6-c584dbe2193a button.colab-df-convert');\n",
              "        buttonEl.style.display =\n",
              "          google.colab.kernel.accessAllowed ? 'block' : 'none';\n",
              "\n",
              "        async function convertToInteractive(key) {\n",
              "          const element = document.querySelector('#df-b1ff926f-461d-42c4-a8b6-c584dbe2193a');\n",
              "          const dataTable =\n",
              "            await google.colab.kernel.invokeFunction('convertToInteractive',\n",
              "                                                     [key], {});\n",
              "          if (!dataTable) return;\n",
              "\n",
              "          const docLinkHtml = 'Like what you see? Visit the ' +\n",
              "            '<a target=\"_blank\" href=https://colab.research.google.com/notebooks/data_table.ipynb>data table notebook</a>'\n",
              "            + ' to learn more about interactive tables.';\n",
              "          element.innerHTML = '';\n",
              "          dataTable['output_type'] = 'display_data';\n",
              "          await google.colab.output.renderOutput(dataTable, element);\n",
              "          const docLink = document.createElement('div');\n",
              "          docLink.innerHTML = docLinkHtml;\n",
              "          element.appendChild(docLink);\n",
              "        }\n",
              "      </script>\n",
              "    </div>\n",
              "  </div>\n",
              "  "
            ]
          },
          "metadata": {},
          "execution_count": 8
        }
      ]
    },
    {
      "cell_type": "code",
      "source": [
        "X = advertising_data.drop('sales', axis=1)\n",
        "\n",
        "Y = advertising_data[['sales']]"
      ],
      "metadata": {
        "id": "VWSwd8bFR_yz"
      },
      "execution_count": null,
      "outputs": []
    },
    {
      "cell_type": "code",
      "source": [
        "from sklearn.model_selection import train_test_split\n",
        "\n",
        "x_train, x_test, y_train, y_test = train_test_split(X, Y, test_size=0.2, random_state=0)"
      ],
      "metadata": {
        "id": "lLNFRzXsR_12"
      },
      "execution_count": null,
      "outputs": []
    },
    {
      "cell_type": "code",
      "source": [
        "x_train.shape, y_train.shape"
      ],
      "metadata": {
        "colab": {
          "base_uri": "https://localhost:8080/"
        },
        "id": "PjrVEzEjR_4R",
        "outputId": "ad432384-b76d-417c-a1fa-a0f06a71f94c"
      },
      "execution_count": null,
      "outputs": [
        {
          "output_type": "execute_result",
          "data": {
            "text/plain": [
              "((160, 3), (160, 1))"
            ]
          },
          "metadata": {},
          "execution_count": 11
        }
      ]
    },
    {
      "cell_type": "code",
      "source": [
        "x_test.shape, y_test.shape"
      ],
      "metadata": {
        "colab": {
          "base_uri": "https://localhost:8080/"
        },
        "id": "HPcDIiciR_7E",
        "outputId": "d46c85f0-c80d-4539-b823-400a40924b33"
      },
      "execution_count": null,
      "outputs": [
        {
          "output_type": "execute_result",
          "data": {
            "text/plain": [
              "((40, 3), (40, 1))"
            ]
          },
          "metadata": {},
          "execution_count": 12
        }
      ]
    },
    {
      "cell_type": "markdown",
      "source": [
        "###Converting data in pytorch tensors\n",
        "- tensors are matrix representations/multidimensional arrays PyTorch uses that can be loaded on a GPU device to run distributed processing"
      ],
      "metadata": {
        "id": "riCHXU5QSLvJ"
      }
    },
    {
      "cell_type": "code",
      "source": [
        "import torch"
      ],
      "metadata": {
        "id": "kjjoLyHQR_9n"
      },
      "execution_count": null,
      "outputs": []
    },
    {
      "cell_type": "code",
      "source": [
        "x_train_tensor = torch.tensor(x_train.values, dtype = torch.float)\n",
        "x_test_tensor = torch.tensor(x_test.values, dtype = torch.float)\n",
        "\n",
        "y_train_tensor = torch.tensor(y_train.values, dtype = torch.float)\n",
        "y_test_tensor = torch.tensor(y_test.values, dtype = torch.float)"
      ],
      "metadata": {
        "id": "fJND97sXSP1i"
      },
      "execution_count": null,
      "outputs": []
    },
    {
      "cell_type": "code",
      "source": [
        "x_train_tensor.shape, y_train_tensor.shape"
      ],
      "metadata": {
        "colab": {
          "base_uri": "https://localhost:8080/"
        },
        "id": "pUBhyPZ2SP4s",
        "outputId": "af6cf8ce-4056-48a7-c844-0d58a55caf4e"
      },
      "execution_count": null,
      "outputs": [
        {
          "output_type": "execute_result",
          "data": {
            "text/plain": [
              "(torch.Size([160, 3]), torch.Size([160, 1]))"
            ]
          },
          "metadata": {},
          "execution_count": 15
        }
      ]
    },
    {
      "cell_type": "code",
      "source": [
        "x_test_tensor.shape, y_test_tensor.shape"
      ],
      "metadata": {
        "colab": {
          "base_uri": "https://localhost:8080/"
        },
        "id": "98mZZsDaSAA8",
        "outputId": "3c2dc459-83d8-4e39-8c2a-7644072e72c1"
      },
      "execution_count": null,
      "outputs": [
        {
          "output_type": "execute_result",
          "data": {
            "text/plain": [
              "(torch.Size([40, 3]), torch.Size([40, 1]))"
            ]
          },
          "metadata": {},
          "execution_count": 16
        }
      ]
    },
    {
      "cell_type": "markdown",
      "source": [
        "##Define the parameters for the neural network\n",
        "- inp = number of features we are using\n",
        "- out will be used to set the size of the output from the neural network. We only predict a single price for each car, so this will be 1\n",
        "- hid is used to set the number of neurons in our hidden layer\n",
        "- loss_fn is MSELoss since we're performing a linear regression\n",
        "learning_rate is set to 0.0001"
      ],
      "metadata": {
        "id": "LOK0xiTPScTz"
      }
    },
    {
      "cell_type": "code",
      "source": [
        "inp = 3 #we want to input/use 3 features\n",
        "out = 1 #output 1 label/output\n",
        "\n",
        "hid = 100 #100 hidden neurons in hidden layer\n",
        "\n",
        "loss_fn = torch.nn.MSELoss() #mean square error loss\n",
        "\n",
        "learning_rate = 0.0001 #learning rate that you use during training will determine how much your model will learn for your data for every epoch\n",
        "#epoch = one pass your model makes through entire dataset"
      ],
      "metadata": {
        "id": "S2o7Moq4R064"
      },
      "execution_count": null,
      "outputs": []
    },
    {
      "cell_type": "markdown",
      "source": [
        "- nn.Sequential: Use the nn package to define our model as a sequence of layers. nn.Sequential is a Module which contains other Modules, and applies them in sequence to produce its output. Each Linear Module computes output from input using a linear function, and holds internal Tensors for its weight and bias.\n",
        "\n",
        "- nn.Linear: Applies a linear transformation to the incoming data: y=Ax+b\n",
        "parameters:\n",
        "in_features – size of each input sample out_features – size of each output sample bias – If set to False, the layer will not learn an additive bias. Default: True\n",
        "\n",
        "- Sigmoid : Applies the element-wise function Sigmoid(x)= 1 / (1+exp(−x))"
      ],
      "metadata": {
        "id": "Sc8eHL1bSraI"
      }
    },
    {
      "cell_type": "code",
      "source": [
        "model = torch.nn.Sequential(torch.nn.Linear(inp, hid),\n",
        "                            torch.nn.ReLU(),\n",
        "                            torch.nn.Linear(hid, out))\n",
        "\n",
        "#now we set up fully connected neural network"
      ],
      "metadata": {
        "id": "JOOvfi9HRkSC"
      },
      "execution_count": null,
      "outputs": []
    },
    {
      "cell_type": "code",
      "source": [
        "import torch.optim as optim\n",
        "\n",
        "optimizer = optim.Adam(model.parameters(), lr=learning_rate)\n",
        "\n",
        "#optimize model's parameters during training \n",
        "#model params need to converge to their final values"
      ],
      "metadata": {
        "id": "ZukHD3eARkU9"
      },
      "execution_count": null,
      "outputs": []
    },
    {
      "cell_type": "markdown",
      "source": [
        "Training Model\n",
        "- Foward Pass:\n",
        "\n",
        "Predicting Y with input data X\n",
        "Finding Loss:\n",
        "\n",
        "- Finding difference between Y_train_tensor and Y_pred using MSEloss function defined above\n",
        "\n",
        "- Back Propogation:\n",
        "\n",
        "   starting with zero gradients before back propogation\n",
        "back propogation is done by simply loss.backward() function\n",
        "\n",
        "- Manually updating model parameters\n",
        "\n",
        "   weights have requires_grad=True, but we don't need to track this in autograd. So will wrap it in torch.no_grad\n",
        "model.parameter() returns all the weights and biases of parameters\n",
        "reducing weight with multiple of learning rate and gradient"
      ],
      "metadata": {
        "id": "tjDpRB23TAyJ"
      }
    },
    {
      "cell_type": "code",
      "source": [
        "for iter in range(10000): #iterate through entire dataset 10,000 times\n",
        "    \n",
        "    y_pred = model(x_train_tensor) #make forward pass to get model parameters' current predictions \n",
        "    loss = loss_fn(y_pred, y_train_tensor) #calculate loss between those predictions and the actual values -- how far actual vals are from predicted\n",
        "\n",
        "    if iter % 1000 ==0: #every thousand iterations will print out the current value of loss to the screen so that we can see that model is converging\n",
        "        print(iter, loss.item())\n",
        "    \n",
        "    optimizer.zero_grad() #now calculate gradients \n",
        "    loss.backward() #gradients allow us to update model's parameters to improve model\n",
        "    \n",
        "    optimizer.step() #this actually updates model's parameters"
      ],
      "metadata": {
        "colab": {
          "base_uri": "https://localhost:8080/"
        },
        "id": "nkArDR8pRkXr",
        "outputId": "3bcd02a9-eab0-4416-8ce3-a5e1a0604ddc"
      },
      "execution_count": null,
      "outputs": [
        {
          "output_type": "stream",
          "name": "stdout",
          "text": [
            "0 227.5751953125\n",
            "1000 127.34938049316406\n",
            "2000 34.98806381225586\n",
            "3000 9.296917915344238\n",
            "4000 6.561415195465088\n",
            "5000 4.888665199279785\n",
            "6000 3.394355058670044\n",
            "7000 2.215470790863037\n",
            "8000 1.3635530471801758\n",
            "9000 0.8045110702514648\n"
          ]
        }
      ]
    },
    {
      "cell_type": "markdown",
      "source": [
        "###Using our model for predictions\n",
        "\n",
        "We pick one of the ads from the test data set for prediction of sale"
      ],
      "metadata": {
        "id": "PVsdR9gdTN9Q"
      }
    },
    {
      "cell_type": "code",
      "source": [
        "sample = x_test.iloc[14]\n",
        "sample"
      ],
      "metadata": {
        "colab": {
          "base_uri": "https://localhost:8080/"
        },
        "id": "UlR4nU4SRkaI",
        "outputId": "e9dd2964-04d5-44d5-8267-27d1cb971cac"
      },
      "execution_count": null,
      "outputs": [
        {
          "output_type": "execute_result",
          "data": {
            "text/plain": [
              "TV          -0.824884\n",
              "radio        0.232011\n",
              "newspaper   -0.379947\n",
              "Name: 81, dtype: float64"
            ]
          },
          "metadata": {},
          "execution_count": 21
        }
      ]
    },
    {
      "cell_type": "markdown",
      "source": [
        "###We convert these features to a Pytorch tensor"
      ],
      "metadata": {
        "id": "MxCHIVB3Tdhk"
      }
    },
    {
      "cell_type": "code",
      "source": [
        "sample_tensor = torch.tensor(sample.values, \n",
        "                             dtype = torch.float)\n",
        "sample_tensor"
      ],
      "metadata": {
        "colab": {
          "base_uri": "https://localhost:8080/"
        },
        "id": "ttS70CPlTU7O",
        "outputId": "13632050-3a79-4183-97c3-08f231c111bf"
      },
      "execution_count": null,
      "outputs": [
        {
          "output_type": "execute_result",
          "data": {
            "text/plain": [
              "tensor([-0.8249,  0.2320, -0.3799])"
            ]
          },
          "metadata": {},
          "execution_count": 22
        }
      ]
    },
    {
      "cell_type": "markdown",
      "source": [
        "###Compare the actual and predicted sale\n",
        "The predicted sale is very close to its actual sale"
      ],
      "metadata": {
        "id": "6tsmVFTOTkYQ"
      }
    },
    {
      "cell_type": "code",
      "source": [
        "y_pred = model(sample_tensor)\n",
        "\n",
        "print(\"Predicted sale : \", int(y_pred.item()))\n",
        "print(\"Actual sale : \", int(y_test.iloc[23]))"
      ],
      "metadata": {
        "colab": {
          "base_uri": "https://localhost:8080/"
        },
        "id": "oGItt_g0TU-6",
        "outputId": "60034a73-72dd-4495-b35a-5f06247b4d4f"
      },
      "execution_count": null,
      "outputs": [
        {
          "output_type": "stream",
          "name": "stdout",
          "text": [
            "Predicted sale :  10\n",
            "Actual sale :  12\n"
          ]
        }
      ]
    },
    {
      "cell_type": "markdown",
      "source": [
        "###Performing predictions on the entire test set\n",
        "We get the list of predicted values in a tensor"
      ],
      "metadata": {
        "id": "9ebTLkMGTqbT"
      }
    },
    {
      "cell_type": "code",
      "source": [
        "y_pred_tensor = model(x_test_tensor)\n",
        "\n",
        "y_pred_tensor[:5]\n",
        "\n",
        "#get the first 5 predicted values for y_test and store in tensor"
      ],
      "metadata": {
        "colab": {
          "base_uri": "https://localhost:8080/"
        },
        "id": "qs49AznYTg3u",
        "outputId": "ad64aae2-b16b-4865-ed98-c4a7300686ee"
      },
      "execution_count": null,
      "outputs": [
        {
          "output_type": "execute_result",
          "data": {
            "text/plain": [
              "tensor([[ 9.9918],\n",
              "        [ 8.2900],\n",
              "        [ 9.0824],\n",
              "        [25.8770],\n",
              "        [11.5724]], grad_fn=<SliceBackward0>)"
            ]
          },
          "metadata": {},
          "execution_count": 24
        }
      ]
    },
    {
      "cell_type": "markdown",
      "source": [
        "###The tensor is converted to a numpy array"
      ],
      "metadata": {
        "id": "3TH5oyMoTvD9"
      }
    },
    {
      "cell_type": "code",
      "source": [
        "y_pred = y_pred_tensor.detach().numpy()\n",
        "\n",
        "y_pred[:5]\n",
        "\n",
        "#how to convert tensor to NumPy format"
      ],
      "metadata": {
        "colab": {
          "base_uri": "https://localhost:8080/"
        },
        "id": "UJZOlFQlTg63",
        "outputId": "a9901e87-f7bf-411c-b1a1-02044464aeaa"
      },
      "execution_count": null,
      "outputs": [
        {
          "output_type": "execute_result",
          "data": {
            "text/plain": [
              "array([[ 9.991844],\n",
              "       [ 8.290011],\n",
              "       [ 9.082369],\n",
              "       [25.877003],\n",
              "       [11.57242 ]], dtype=float32)"
            ]
          },
          "metadata": {},
          "execution_count": 25
        }
      ]
    },
    {
      "cell_type": "markdown",
      "source": [
        "###Plot a graph of the predicted values against the actual ones\n",
        "The good news is there appears to be a strong positive correlation"
      ],
      "metadata": {
        "id": "NUa3i--yT06P"
      }
    },
    {
      "cell_type": "code",
      "source": [
        "plt.figure(figsize=(15, 8))\n",
        "\n",
        "plt.scatter(y_pred, y_test.values)\n",
        "\n",
        "plt.xlabel(\"Actual Sale\")\n",
        "plt.ylabel(\"Predicted Sale\")\n",
        "\n",
        "plt.title(\"Predicted Sale vs Actual Sale\")\n",
        "plt.show()\n",
        "\n",
        "#actual values are very close to the predicted values"
      ],
      "metadata": {
        "colab": {
          "base_uri": "https://localhost:8080/",
          "height": 513
        },
        "id": "FItcsZCaTg-j",
        "outputId": "42a2422c-3f93-415b-e5a4-50332f75b9a2"
      },
      "execution_count": null,
      "outputs": [
        {
          "output_type": "display_data",
          "data": {
            "text/plain": [
              "<Figure size 1080x576 with 1 Axes>"
            ],
            "image/png": "[encoded data removed]"
          },
          "metadata": {
            "needs_background": "light"
          }
        }
      ]
    },
    {
      "cell_type": "code",
      "source": [
        "from sklearn.metrics import r2_score\n",
        "\n",
        "r2_score(y_test, y_pred)\n",
        "\n",
        "#very good model"
      ],
      "metadata": {
        "colab": {
          "base_uri": "https://localhost:8080/"
        },
        "id": "WySaQ7g_TxmK",
        "outputId": "9c1dbb3c-953d-4c05-e280-ea80b3c115c7"
      },
      "execution_count": null,
      "outputs": [
        {
          "output_type": "execute_result",
          "data": {
            "text/plain": [
              "0.9457405156679746"
            ]
          },
          "metadata": {},
          "execution_count": 27
        }
      ]
    },
    {
      "cell_type": "code",
      "source": [
        ""
      ],
      "metadata": {
        "id": "egxPJ-yvTxpG"
      },
      "execution_count": null,
      "outputs": []
    },
    {
      "cell_type": "code",
      "source": [
        ""
      ],
      "metadata": {
        "id": "zrvk6ckFTVCT"
      },
      "execution_count": null,
      "outputs": []
    },
    {
      "cell_type": "code",
      "source": [
        ""
      ],
      "metadata": {
        "id": "C8doXofcTVFU"
      },
      "execution_count": null,
      "outputs": []
    }
  ]
}